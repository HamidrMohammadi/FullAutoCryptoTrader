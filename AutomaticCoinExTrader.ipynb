{
  "nbformat": 4,
  "nbformat_minor": 0,
  "metadata": {
    "colab": {
      "provenance": []
    },
    "kernelspec": {
      "name": "python3",
      "display_name": "Python 3"
    },
    "language_info": {
      "name": "python"
    }
  },
  "cells": [
    {
      "cell_type": "code",
      "source": [
        "pip install ta"
      ],
      "metadata": {
        "id": "4-KyJenXCqkV"
      },
      "execution_count": null,
      "outputs": []
    },
    {
      "cell_type": "code",
      "source": [
        "pip install ccxt"
      ],
      "metadata": {
        "id": "gNc0QFKBCvOb"
      },
      "execution_count": null,
      "outputs": []
    },
    {
      "cell_type": "code",
      "source": [
        "pip install kucoin-python"
      ],
      "metadata": {
        "id": "FvWB5tH-Cxpj"
      },
      "execution_count": null,
      "outputs": []
    },
    {
      "cell_type": "code",
      "execution_count": 8,
      "metadata": {
        "id": "4I84L0tpsy4u",
        "colab": {
          "base_uri": "https://localhost:8080/"
        },
        "outputId": "15969315-e4a7-438d-a7b7-2923326dd848"
      },
      "outputs": [
        {
          "output_type": "stream",
          "name": "stdout",
          "text": [
            "Patience is virtue\n"
          ]
        }
      ],
      "source": [
        "import sys\n",
        "import pandas as pd\n",
        "import ta\n",
        "import time\n",
        "import requests\n",
        "import json\n",
        "from datetime import datetime\n",
        "from math import floor, log10\n",
        "import ccxt\n",
        "\n",
        "\n",
        "# CoinEx exchange\n",
        "exchange = ccxt.coinex()\n",
        "\n",
        "\n",
        "########################\n",
        "### Authentification ###\n",
        "########################\n",
        "\n",
        "authentication = {\n",
        "        \"apiKey\": \"480B72C2617241488E583CD72F41795B\",\n",
        "        \"secret\": \"11F60C1B1B96F61B14354A781489C3EB4F831C91C584F444\",\n",
        "}\n",
        "\n",
        "\n",
        "\n",
        "\n",
        "\n",
        "############\n",
        "### Data ###\n",
        "############\n",
        "symbol_base = \"BNB\"\n",
        "symbol_quote = \"USDT\"\n",
        "timeframe = \"1day\"\n",
        "\n",
        "\n",
        "url='https://api.kucoin.com'\n",
        "go_back = 2*365\n",
        "starting_date = float(round(time.time()))-go_back*24*3600\n",
        "\n",
        "\n",
        "check = True\n",
        "while check:\n",
        "    data = requests.get(url + f'/api/v1/market/candles?type={timeframe}&symbol={symbol_base}-{symbol_quote}&startAt={int(starting_date)}')\n",
        "    data = data.json()\n",
        "    check = 'msg' in data.keys()\n",
        "\n",
        "\n",
        "data = pd.DataFrame(data['data'], columns = ['timestamp', 'open', 'close', 'high', 'low', 'amount', 'volume'])\n",
        "data[\"close\"] = pd.to_numeric(data[\"close\"])\n",
        "data['timestamp'] = pd.to_datetime(data['timestamp'], unit='s')\n",
        "data = data.iloc[::-1]\n",
        "\n",
        "\n",
        "\n",
        "################\n",
        "### Strategy ###\n",
        "################\n",
        "data['EMA-st'] = ta.trend.ema_indicator(data['close'], 12)\n",
        "data['EMA-lt'] = ta.trend.ema_indicator(data['close'], 18)\n",
        "data['RSI'] = ta.momentum.rsi(data['close'])\n",
        "data = data.iloc[-2]\n",
        "\n",
        "\n",
        "entry = data['EMA-st'] > data['EMA-lt'] and data['RSI'] < 70\n",
        "take_profit = data['EMA-st'] < data['EMA-lt'] and data['RSI'] > 30\n",
        "\n",
        "\n",
        "\n",
        "############\n",
        "### Prep ###\n",
        "############\n",
        "### Balances\n",
        "exchange = ccxt.coinex(authentication)\n",
        "\n",
        "# USDT\n",
        "balance_quote = float(exchange.fetchBalance()[symbol_quote]['free'])\n",
        "# BNB\n",
        "balance_base = float(exchange.fetchBalance()[symbol_base]['free'])\n",
        "\n",
        "\n",
        "\n",
        "### Price\n",
        "\n",
        "symbol = (f\"{symbol_base}/{symbol_quote}\")\n",
        "\n",
        "price = float(exchange.fetchTicker(symbol)['last'])\n",
        "\n",
        "\n",
        "\n",
        "\n",
        "### Minimum requirements\n",
        "info = requests.get(url + f'/api/v1/symbols/{symbol_base}-{symbol_quote}')\n",
        "info = info.json()['data']\n",
        "\n",
        "\n",
        "# Truncation\n",
        "min_truncate = int(abs(log10(float(info['baseIncrement']))))\n",
        "def truncate(n):\n",
        "    r = floor(float(n)*10**min_truncate)/10**min_truncate\n",
        "    return str(r)\n",
        "\n",
        "\n",
        "\n",
        "############\n",
        "# Min amounts\n",
        "min_quote_for_buy = float(info['minFunds'])\n",
        "min_base_for_sell = float(truncate(float(min_quote_for_buy)/price))\n",
        "\n",
        "##############\n",
        "### Orders ###\n",
        "##############\n",
        "\n",
        "now = datetime.now()\n",
        "current_time = now.strftime(\"%d/%m/%Y %H:%M:%S\")\n",
        "\n",
        "\n",
        "\n",
        "if entry and balance_quote > min_quote_for_buy:\n",
        "        amount = truncate(balance_quote/price)\n",
        "        order_type = 'market'\n",
        "        side = 'buy'\n",
        "        base_price = price\n",
        "        order = exchange.createOrder(symbol, order_type, side, amount, base_price)\n",
        "\n",
        "\n",
        "\n",
        "        print(f\"{current_time}: bought {amount} {symbol_base} at {price}\")\n",
        "        print(f\"Order Details: {order}\")\n",
        "\n",
        "elif take_profit and balance_base > min_base_for_sell:\n",
        "        amount = truncate(balance_base)\n",
        "\n",
        "        order_type = 'market'\n",
        "        side = 'sell'\n",
        "        base_price = price\n",
        "        order = exchange.createOrder(symbol, order_type, side, amount, base_price)\n",
        "\n",
        "        print(f\"{current_time}: sold {amount} {symbol_base} at {price}\")\n",
        "        print(f\"Order Details: {order}\")\n",
        "\n",
        "\n",
        "else:\n",
        "        print(f\"Patience is virtue\")\n"
      ]
    }
  ]
}